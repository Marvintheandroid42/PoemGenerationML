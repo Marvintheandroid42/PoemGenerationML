{
 "cells": [
  {
   "cell_type": "code",
   "execution_count": 1,
   "id": "8a1247af",
   "metadata": {
    "_cell_guid": "b1076dfc-b9ad-4769-8c92-a6c4dae69d19",
    "_uuid": "8f2839f25d086af736a60e9eeb907d3b93b6e0e5",
    "execution": {
     "iopub.execute_input": "2022-02-02T20:39:50.059635Z",
     "iopub.status.busy": "2022-02-02T20:39:50.058009Z",
     "iopub.status.idle": "2022-02-02T20:39:50.072163Z",
     "shell.execute_reply": "2022-02-02T20:39:50.072912Z",
     "shell.execute_reply.started": "2022-02-02T19:53:36.102233Z"
    },
    "papermill": {
     "duration": 0.026247,
     "end_time": "2022-02-02T20:39:50.073237",
     "exception": false,
     "start_time": "2022-02-02T20:39:50.046990",
     "status": "completed"
    },
    "tags": []
   },
   "outputs": [
    {
     "name": "stdout",
     "output_type": "stream",
     "text": [
      "/kaggle/input/digit-recognizer/sample_submission.csv\n",
      "/kaggle/input/digit-recognizer/train.csv\n",
      "/kaggle/input/digit-recognizer/test.csv\n"
     ]
    }
   ],
   "source": [
    "# This Python 3 environment comes with many helpful analytics libraries installed\n",
    "# It is defined by the kaggle/python Docker image: https://github.com/kaggle/docker-python\n",
    "# For example, here's several helpful packages to load\n",
    "\n",
    "import numpy as np # linear algebra\n",
    "import pandas as pd # data processing, CSV file I/O (e.g. pd.read_csv)\n",
    "\n",
    "# Input data files are available in the read-only \"../input/\" directory\n",
    "# For example, running this (by clicking run or pressing Shift+Enter) will list all files under the input directory\n",
    "\n",
    "import os\n",
    "for dirname, _, filenames in os.walk('/kaggle/input'):\n",
    "    for filename in filenames:\n",
    "        print(os.path.join(dirname, filename))\n",
    "\n",
    "# You can write up to 20GB to the current directory (/kaggle/working/) that gets preserved as output when you create a version using \"Save & Run All\" \n",
    "# You can also write temporary files to /kaggle/temp/, but they won't be saved outside of the current session"
   ]
  },
  {
   "cell_type": "code",
   "execution_count": 2,
   "id": "a9a1155b",
   "metadata": {
    "execution": {
     "iopub.execute_input": "2022-02-02T20:39:50.093395Z",
     "iopub.status.busy": "2022-02-02T20:39:50.088543Z",
     "iopub.status.idle": "2022-02-02T20:40:01.331537Z",
     "shell.execute_reply": "2022-02-02T20:40:01.332021Z",
     "shell.execute_reply.started": "2022-02-02T20:36:15.367432Z"
    },
    "papermill": {
     "duration": 11.251607,
     "end_time": "2022-02-02T20:40:01.332181",
     "exception": false,
     "start_time": "2022-02-02T20:39:50.080574",
     "status": "completed"
    },
    "tags": []
   },
   "outputs": [
    {
     "data": {
      "image/png": "[encoded data removed]",
      "text/plain": [
       "<Figure size 432x288 with 1 Axes>"
      ]
     },
     "metadata": {
      "needs_background": "light"
     },
     "output_type": "display_data"
    }
   ],
   "source": [
    "import matplotlib.pyplot as plt\n",
    "import tensorflow as tf\n",
    "\n",
    "train = pd.read_csv(\"../input/digit-recognizer/train.csv\")\n",
    "test = pd.read_csv(\"../input/digit-recognizer/test.csv\")\n",
    "\n",
    "val_data = np.array(train[\"label\"])\n",
    "feed_data = np.array(train.drop(columns=['label'], errors='ignore'))\n",
    "\n",
    "feed_data_norm = tf.keras.utils.normalize(feed_data, axis=1)\n",
    "\n",
    "feed_data_test = np.array(test.drop(columns=['label'], errors='ignore'))\n",
    "\n",
    "feed_data_norm_test = tf.keras.utils.normalize(feed_data_test, axis=1)\n",
    "\n",
    "\n",
    "shape = (28, 28, 1)\n",
    "image = feed_data_norm.reshape(-1, *shape)\n",
    "\n",
    "\n",
    "plt.imshow(image[2])\n",
    "\n",
    "plt.show()\n",
    "\n"
   ]
  },
  {
   "cell_type": "code",
   "execution_count": 3,
   "id": "86d19f7f",
   "metadata": {
    "execution": {
     "iopub.execute_input": "2022-02-02T20:40:01.351959Z",
     "iopub.status.busy": "2022-02-02T20:40:01.350732Z",
     "iopub.status.idle": "2022-02-02T20:41:26.682700Z",
     "shell.execute_reply": "2022-02-02T20:41:26.682162Z",
     "shell.execute_reply.started": "2022-02-02T20:14:35.861950Z"
    },
    "papermill": {
     "duration": 85.344629,
     "end_time": "2022-02-02T20:41:26.682916",
     "exception": false,
     "start_time": "2022-02-02T20:40:01.338287",
     "status": "completed"
    },
    "tags": []
   },
   "outputs": [
    {
     "name": "stderr",
     "output_type": "stream",
     "text": [
      "2022-02-02 20:40:01.423249: I tensorflow/stream_executor/cuda/cuda_gpu_executor.cc:937] successful NUMA node read from SysFS had negative value (-1), but there must be at least one NUMA node, so returning NUMA node zero\n",
      "2022-02-02 20:40:01.527177: I tensorflow/stream_executor/cuda/cuda_gpu_executor.cc:937] successful NUMA node read from SysFS had negative value (-1), but there must be at least one NUMA node, so returning NUMA node zero\n",
      "2022-02-02 20:40:01.527980: I tensorflow/stream_executor/cuda/cuda_gpu_executor.cc:937] successful NUMA node read from SysFS had negative value (-1), but there must be at least one NUMA node, so returning NUMA node zero\n",
      "2022-02-02 20:40:01.529214: I tensorflow/core/platform/cpu_feature_guard.cc:142] This TensorFlow binary is optimized with oneAPI Deep Neural Network Library (oneDNN) to use the following CPU instructions in performance-critical operations:  AVX2 AVX512F FMA\n",
      "To enable them in other operations, rebuild TensorFlow with the appropriate compiler flags.\n",
      "2022-02-02 20:40:01.530296: I tensorflow/stream_executor/cuda/cuda_gpu_executor.cc:937] successful NUMA node read from SysFS had negative value (-1), but there must be at least one NUMA node, so returning NUMA node zero\n",
      "2022-02-02 20:40:01.531045: I tensorflow/stream_executor/cuda/cuda_gpu_executor.cc:937] successful NUMA node read from SysFS had negative value (-1), but there must be at least one NUMA node, so returning NUMA node zero\n",
      "2022-02-02 20:40:01.531672: I tensorflow/stream_executor/cuda/cuda_gpu_executor.cc:937] successful NUMA node read from SysFS had negative value (-1), but there must be at least one NUMA node, so returning NUMA node zero\n",
      "2022-02-02 20:40:03.342007: I tensorflow/stream_executor/cuda/cuda_gpu_executor.cc:937] successful NUMA node read from SysFS had negative value (-1), but there must be at least one NUMA node, so returning NUMA node zero\n",
      "2022-02-02 20:40:03.342864: I tensorflow/stream_executor/cuda/cuda_gpu_executor.cc:937] successful NUMA node read from SysFS had negative value (-1), but there must be at least one NUMA node, so returning NUMA node zero\n",
      "2022-02-02 20:40:03.343539: I tensorflow/stream_executor/cuda/cuda_gpu_executor.cc:937] successful NUMA node read from SysFS had negative value (-1), but there must be at least one NUMA node, so returning NUMA node zero\n",
      "2022-02-02 20:40:03.344153: I tensorflow/core/common_runtime/gpu/gpu_device.cc:1510] Created device /job:localhost/replica:0/task:0/device:GPU:0 with 15403 MB memory:  -> device: 0, name: Tesla P100-PCIE-16GB, pci bus id: 0000:00:04.0, compute capability: 6.0\n",
      "2022-02-02 20:40:04.280086: I tensorflow/compiler/mlir/mlir_graph_optimization_pass.cc:185] None of the MLIR Optimization Passes are enabled (registered 2)\n"
     ]
    },
    {
     "name": "stdout",
     "output_type": "stream",
     "text": [
      "Epoch 1/20\n",
      "1313/1313 [==============================] - 4s 2ms/step - loss: 1.0262 - accuracy: 0.6681\n",
      "Epoch 2/20\n",
      "1313/1313 [==============================] - 3s 2ms/step - loss: 0.3676 - accuracy: 0.8879\n",
      "Epoch 3/20\n",
      "1313/1313 [==============================] - 3s 2ms/step - loss: 0.2989 - accuracy: 0.9085\n",
      "Epoch 4/20\n",
      "1313/1313 [==============================] - 3s 2ms/step - loss: 0.2653 - accuracy: 0.9184\n",
      "Epoch 5/20\n",
      "1313/1313 [==============================] - 3s 2ms/step - loss: 0.2413 - accuracy: 0.9256\n",
      "Epoch 6/20\n",
      "1313/1313 [==============================] - 3s 2ms/step - loss: 0.2200 - accuracy: 0.9311\n",
      "Epoch 7/20\n",
      "1313/1313 [==============================] - 3s 2ms/step - loss: 0.2025 - accuracy: 0.9372\n",
      "Epoch 8/20\n",
      "1313/1313 [==============================] - 3s 2ms/step - loss: 0.1834 - accuracy: 0.9426\n",
      "Epoch 9/20\n",
      "1313/1313 [==============================] - 3s 2ms/step - loss: 0.1698 - accuracy: 0.9475\n",
      "Epoch 10/20\n",
      "1313/1313 [==============================] - 3s 2ms/step - loss: 0.1575 - accuracy: 0.9515\n",
      "Epoch 11/20\n",
      "1313/1313 [==============================] - 3s 3ms/step - loss: 0.1464 - accuracy: 0.9544\n",
      "Epoch 12/20\n",
      "1313/1313 [==============================] - 3s 2ms/step - loss: 0.1362 - accuracy: 0.9580\n",
      "Epoch 13/20\n",
      "1313/1313 [==============================] - 3s 2ms/step - loss: 0.1291 - accuracy: 0.9592\n",
      "Epoch 14/20\n",
      "1313/1313 [==============================] - 3s 2ms/step - loss: 0.1206 - accuracy: 0.9627\n",
      "Epoch 15/20\n",
      "1313/1313 [==============================] - 3s 2ms/step - loss: 0.1134 - accuracy: 0.9641\n",
      "Epoch 16/20\n",
      "1313/1313 [==============================] - 3s 2ms/step - loss: 0.1069 - accuracy: 0.9670\n",
      "Epoch 17/20\n",
      "1313/1313 [==============================] - 3s 2ms/step - loss: 0.1003 - accuracy: 0.9695\n",
      "Epoch 18/20\n",
      "1313/1313 [==============================] - 3s 2ms/step - loss: 0.0960 - accuracy: 0.9696\n",
      "Epoch 19/20\n",
      "1313/1313 [==============================] - 3s 2ms/step - loss: 0.0885 - accuracy: 0.9726\n",
      "Epoch 20/20\n",
      "1313/1313 [==============================] - 3s 2ms/step - loss: 0.0831 - accuracy: 0.9745\n"
     ]
    }
   ],
   "source": [
    "import tensorflow as tf\n",
    "\n",
    "Dim = 256\n",
    "\n",
    "model = tf.keras.models.Sequential()\n",
    "model.add(tf.keras.layers.Flatten())\n",
    "model.add(tf.keras.layers.Dense(128, activation=tf.nn.sigmoid))\n",
    "model.add(tf.keras.layers.Dense(128, activation=tf.nn.relu))\n",
    "model.add(tf.keras.layers.Dense(128, activation=tf.nn.sigmoid))\n",
    "model.add(tf.keras.layers.Dense(128, activation=tf.nn.softmax))\n",
    "\n",
    "model.compile(optimizer=\"adam\", loss= tf.keras.losses.SparseCategoricalCrossentropy(), metrics = [\"accuracy\"])\n",
    "\n",
    "history = model.fit(feed_data_norm, val_data, epochs = 20)"
   ]
  },
  {
   "cell_type": "code",
   "execution_count": 4,
   "id": "afdfea43",
   "metadata": {
    "execution": {
     "iopub.execute_input": "2022-02-02T20:41:27.293974Z",
     "iopub.status.busy": "2022-02-02T20:41:27.293239Z",
     "iopub.status.idle": "2022-02-02T20:41:28.124348Z",
     "shell.execute_reply": "2022-02-02T20:41:28.124839Z",
     "shell.execute_reply.started": "2022-02-02T20:16:04.920655Z"
    },
    "papermill": {
     "duration": 1.140633,
     "end_time": "2022-02-02T20:41:28.125005",
     "exception": false,
     "start_time": "2022-02-02T20:41:26.984372",
     "status": "completed"
    },
    "tags": []
   },
   "outputs": [
    {
     "name": "stderr",
     "output_type": "stream",
     "text": [
      "2022-02-02 20:41:27.553350: W tensorflow/python/util/util.cc:348] Sets are not currently considered sequences, but this may change in the future, so consider avoiding using them.\n"
     ]
    }
   ],
   "source": [
    "model.save(\"recog.model\")"
   ]
  },
  {
   "cell_type": "code",
   "execution_count": 5,
   "id": "81d976aa",
   "metadata": {
    "execution": {
     "iopub.execute_input": "2022-02-02T20:41:28.732531Z",
     "iopub.status.busy": "2022-02-02T20:41:28.731594Z",
     "iopub.status.idle": "2022-02-02T20:41:30.304168Z",
     "shell.execute_reply": "2022-02-02T20:41:30.304557Z",
     "shell.execute_reply.started": "2022-02-02T20:16:18.158615Z"
    },
    "papermill": {
     "duration": 1.876889,
     "end_time": "2022-02-02T20:41:30.304707",
     "exception": false,
     "start_time": "2022-02-02T20:41:28.427818",
     "status": "completed"
    },
    "tags": []
   },
   "outputs": [
    {
     "name": "stdout",
     "output_type": "stream",
     "text": [
      "[[4.37700777e-07 6.79727862e-07 9.99893188e-01 ... 3.13835047e-12\n",
      "  3.20556364e-12 2.69056565e-12]\n",
      " [9.98610139e-01 3.77503852e-06 6.85178093e-04 ... 2.77401158e-10\n",
      "  2.91120628e-10 3.46815271e-10]\n",
      " [7.04528418e-08 3.73105249e-05 2.13894441e-06 ... 5.47330757e-11\n",
      "  5.65651380e-11 6.56372387e-11]\n",
      " ...\n",
      " [2.93938854e-07 1.81709474e-05 3.74910042e-06 ... 5.66050202e-12\n",
      "  3.79335062e-12 4.60542411e-12]\n",
      " [3.81120003e-07 2.07784424e-07 7.29478529e-07 ... 2.07172612e-11\n",
      "  1.86566422e-11 2.79165354e-11]\n",
      " [8.24293693e-07 4.86647696e-06 9.99335110e-01 ... 1.11883315e-11\n",
      "  1.14688484e-11 8.40895756e-12]]\n"
     ]
    }
   ],
   "source": [
    "predictions = model.predict([feed_data_norm_test])\n",
    "\n",
    "print(predictions)"
   ]
  },
  {
   "cell_type": "code",
   "execution_count": 6,
   "id": "3da924ea",
   "metadata": {
    "execution": {
     "iopub.execute_input": "2022-02-02T20:41:30.942922Z",
     "iopub.status.busy": "2022-02-02T20:41:30.942275Z",
     "iopub.status.idle": "2022-02-02T20:41:32.983309Z",
     "shell.execute_reply": "2022-02-02T20:41:32.982852Z",
     "shell.execute_reply.started": "2022-02-02T20:16:21.705173Z"
    },
    "papermill": {
     "duration": 2.361357,
     "end_time": "2022-02-02T20:41:32.983436",
     "exception": false,
     "start_time": "2022-02-02T20:41:30.622079",
     "status": "completed"
    },
    "tags": []
   },
   "outputs": [
    {
     "name": "stdout",
     "output_type": "stream",
     "text": [
      "3\n"
     ]
    },
    {
     "data": {
      "image/png": "[encoded data removed]",
      "text/plain": [
       "<Figure size 432x288 with 1 Axes>"
      ]
     },
     "metadata": {
      "needs_background": "light"
     },
     "output_type": "display_data"
    },
    {
     "name": "stdout",
     "output_type": "stream",
     "text": [
      "6\n"
     ]
    },
    {
     "data": {
      "image/png": "[encoded data removed]",
      "text/plain": [
       "<Figure size 432x288 with 1 Axes>"
      ]
     },
     "metadata": {
      "needs_background": "light"
     },
     "output_type": "display_data"
    },
    {
     "name": "stdout",
     "output_type": "stream",
     "text": [
      "6\n"
     ]
    },
    {
     "data": {
      "image/png": "[encoded data removed]",
      "text/plain": [
       "<Figure size 432x288 with 1 Axes>"
      ]
     },
     "metadata": {
      "needs_background": "light"
     },
     "output_type": "display_data"
    },
    {
     "name": "stdout",
     "output_type": "stream",
     "text": [
      "2\n"
     ]
    },
    {
     "data": {
      "image/png": "[encoded data removed]",
      "text/plain": [
       "<Figure size 432x288 with 1 Axes>"
      ]
     },
     "metadata": {
      "needs_background": "light"
     },
     "output_type": "display_data"
    },
    {
     "name": "stdout",
     "output_type": "stream",
     "text": [
      "3\n"
     ]
    },
    {
     "data": {
      "image/png": "[encoded data removed]",
      "text/plain": [
       "<Figure size 432x288 with 1 Axes>"
      ]
     },
     "metadata": {
      "needs_background": "light"
     },
     "output_type": "display_data"
    },
    {
     "name": "stdout",
     "output_type": "stream",
     "text": [
      "7\n"
     ]
    },
    {
     "data": {
      "image/png": "[encoded data removed]",
      "text/plain": [
       "<Figure size 432x288 with 1 Axes>"
      ]
     },
     "metadata": {
      "needs_background": "light"
     },
     "output_type": "display_data"
    },
    {
     "name": "stdout",
     "output_type": "stream",
     "text": [
      "5\n"
     ]
    },
    {
     "data": {
      "image/png": "[encoded data removed]",
      "text/plain": [
       "<Figure size 432x288 with 1 Axes>"
      ]
     },
     "metadata": {
      "needs_background": "light"
     },
     "output_type": "display_data"
    },
    {
     "name": "stdout",
     "output_type": "stream",
     "text": [
      "4\n"
     ]
    },
    {
     "data": {
      "image/png": "[encoded data removed]",
      "text/plain": [
       "<Figure size 432x288 with 1 Axes>"
      ]
     },
     "metadata": {
      "needs_background": "light"
     },
     "output_type": "display_data"
    },
    {
     "name": "stdout",
     "output_type": "stream",
     "text": [
      "6\n"
     ]
    },
    {
     "data": {
      "image/png": "[encoded data removed]",
      "text/plain": [
       "<Figure size 432x288 with 1 Axes>"
      ]
     },
     "metadata": {
      "needs_background": "light"
     },
     "output_type": "display_data"
    },
    {
     "name": "stdout",
     "output_type": "stream",
     "text": [
      "5\n"
     ]
    },
    {
     "data": {
      "image/png": "[encoded data removed]",
      "text/plain": [
       "<Figure size 432x288 with 1 Axes>"
      ]
     },
     "metadata": {
      "needs_background": "light"
     },
     "output_type": "display_data"
    }
   ],
   "source": [
    "import numpy as np\n",
    "import csv\n",
    "import random\n",
    "\n",
    "for x in range(0,10):\n",
    "    imagenum = random.randint(0, len(predictions))\n",
    "    print(np.argmax(predictions[imagenum]))\n",
    "\n",
    "    shape = (28, 28, 1)\n",
    "    image = feed_data_norm_test.reshape(-1, *shape)\n",
    "\n",
    "    plt.imshow(image[imagenum])\n",
    "\n",
    "    plt.show()\n",
    "\n",
    "\n",
    "\n",
    "\n",
    "    \n"
   ]
  }
 ],
 "metadata": {
  "kernelspec": {
   "display_name": "Python 3",
   "language": "python",
   "name": "python3"
  },
  "language_info": {
   "codemirror_mode": {
    "name": "ipython",
    "version": 3
   },
   "file_extension": ".py",
   "mimetype": "text/x-python",
   "name": "python",
   "nbconvert_exporter": "python",
   "pygments_lexer": "ipython3",
   "version": "3.7.12"
  },
  "papermill": {
   "default_parameters": {},
   "duration": 114.588402,
   "end_time": "2022-02-02T20:41:36.251114",
   "environment_variables": {},
   "exception": null,
   "input_path": "__notebook__.ipynb",
   "output_path": "__notebook__.ipynb",
   "parameters": {},
   "start_time": "2022-02-02T20:39:41.662712",
   "version": "2.3.3"
  }
 },
 "nbformat": 4,
 "nbformat_minor": 5
}
